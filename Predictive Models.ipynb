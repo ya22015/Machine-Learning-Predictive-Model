{
  "nbformat": 4,
  "nbformat_minor": 0,
  "metadata": {
    "colab": {
      "provenance": []
    },
    "kernelspec": {
      "name": "python3",
      "display_name": "Python 3"
    },
    "language_info": {
      "name": "python"
    }
  },
  "cells": [
    {
      "cell_type": "code",
      "source": [
        "import pandas as pd\n",
        "import matplotlib.pyplot as plt\n",
        "from sklearn.model_selection import train_test_split\n",
        "from pandas.plotting import scatter_matrix\n",
        "from matplotlib import pyplot\n",
        "from sklearn.model_selection import cross_val_score\n",
        "from sklearn.model_selection import StratifiedKFold\n",
        "from sklearn.metrics import classification_report\n",
        "from sklearn.metrics import confusion_matrix\n",
        "from sklearn.metrics import accuracy_score\n",
        "from sklearn.linear_model import LogisticRegression\n",
        "from sklearn.tree import DecisionTreeClassifier\n",
        "from sklearn.neighbors import KNeighborsClassifier\n",
        "from sklearn.discriminant_analysis import LinearDiscriminantAnalysis\n",
        "from sklearn.naive_bayes import GaussianNB\n",
        "from sklearn.svm import SVC\n",
        "from sklearn.preprocessing import StandardScaler \n",
        "from sklearn.preprocessing import OrdinalEncoder"
      ],
      "metadata": {
        "id": "pPvPygf3dvA9"
      },
      "execution_count": null,
      "outputs": []
    },
    {
      "cell_type": "markdown",
      "source": [
        "**MOUNTING THE DATA**"
      ],
      "metadata": {
        "id": "S0CGmQsTo6tj"
      }
    },
    {
      "cell_type": "code",
      "source": [
        "# Mount data file from google drive to colab workspace\n",
        "\n",
        "from google.colab import drive \n",
        "drive.mount('/content/drive')\n",
        "path = '/content/drive/MyDrive/data-science-course-work/Data_shipping.xlsx'"
      ],
      "metadata": {
        "colab": {
          "base_uri": "https://localhost:8080/"
        },
        "id": "UsA_UsJfexJI",
        "outputId": "ab726860-4207-427b-f2ad-c4cdd83dd3a2"
      },
      "execution_count": null,
      "outputs": [
        {
          "output_type": "stream",
          "name": "stdout",
          "text": [
            "Mounted at /content/drive\n"
          ]
        }
      ]
    },
    {
      "cell_type": "code",
      "source": [
        "# Load the Excel file into a Pandas DataFrame\n",
        "\n",
        "df = pd.read_excel(path) "
      ],
      "metadata": {
        "id": "msoleODLfPPj"
      },
      "execution_count": null,
      "outputs": []
    },
    {
      "cell_type": "markdown",
      "source": [
        "**DATA EXPLORATION**"
      ],
      "metadata": {
        "id": "DwOVU7Kyow_e"
      }
    },
    {
      "cell_type": "code",
      "source": [
        "# Inspect the first five rows of the dataset\n",
        "\n",
        "print(df.head(5))"
      ],
      "metadata": {
        "id": "YgvvGJPoW_4C"
      },
      "execution_count": null,
      "outputs": []
    },
    {
      "cell_type": "code",
      "source": [
        "# Check the shape of the data set\n",
        "\n",
        "print(\"Shape of the DataFrame:\", df.shape) "
      ],
      "metadata": {
        "id": "x1GkNgss4OzA"
      },
      "execution_count": null,
      "outputs": []
    },
    {
      "cell_type": "code",
      "source": [
        "# Check the number for missing values\n",
        "\n",
        "missing_values = df.isnull().sum() \n",
        "print (missing_values)"
      ],
      "metadata": {
        "colab": {
          "base_uri": "https://localhost:8080/"
        },
        "id": "IrUMwuLo8QCh",
        "outputId": "04228486-a5d2-41f3-d5aa-4a60cf558698"
      },
      "execution_count": null,
      "outputs": [
        {
          "output_type": "stream",
          "name": "stdout",
          "text": [
            "ID                     0\n",
            "Warehouse_block        0\n",
            "Mode_of_Shipment       0\n",
            "Customer_care_calls    0\n",
            "Customer_rating        0\n",
            "Cost_of_the_Product    0\n",
            "Prior_purchases        0\n",
            "Product_importance     0\n",
            "Discount_offered       0\n",
            "Weight_in_gms          0\n",
            "ROT_Y                  0\n",
            "dtype: int64\n"
          ]
        }
      ]
    },
    {
      "cell_type": "code",
      "source": [
        "# Check the duplicate rows and remove the missing rows\n",
        "\n",
        "duplicate_rows = df.duplicated()\n",
        "print(\"Number of duplicate rows:\", duplicate_rows.sum())\n",
        "\n",
        "if duplicate_rows.sum() > 0:\n",
        "  # Drop duplicate rows from the DataFrame\n",
        "  df = df.drop_duplicates()\n",
        "\n",
        "  # Check the shape of the DataFrame after dropping duplicates\n",
        "  print(\"Shape of DataFrame after dropping duplicates:\", df.shape)"
      ],
      "metadata": {
        "colab": {
          "base_uri": "https://localhost:8080/"
        },
        "id": "2B0Lj7jWJlO8",
        "outputId": "66c42677-81fa-4e57-d371-9d5528010c0c"
      },
      "execution_count": null,
      "outputs": [
        {
          "output_type": "stream",
          "name": "stdout",
          "text": [
            "Number of duplicate rows: 0\n"
          ]
        }
      ]
    },
    {
      "cell_type": "code",
      "source": [
        "# Check the data type\n",
        "\n",
        "print(df.dtypes) "
      ],
      "metadata": {
        "id": "r4Enw_LU6FK5"
      },
      "execution_count": null,
      "outputs": []
    },
    {
      "cell_type": "code",
      "source": [
        "# Select the numerical columns to plot\n",
        "\n",
        "num_cols = ['Customer_care_calls', 'Customer_rating', 'Cost_of_the_Product', 'Prior_purchases', 'Discount_offered', 'Weight_in_gms']\n",
        "\n",
        "# Plot histograms for each numerical column\n",
        "for col in num_cols:\n",
        "    fig, ax = plt.subplots()\n",
        "    ax.hist(df[col], bins=100)\n",
        "    ax.set_xlabel(col)\n",
        "    ax.set_ylabel('Count')\n",
        "    plt.show()\n"
      ],
      "metadata": {
        "id": "gEirUNFNYaJi"
      },
      "execution_count": null,
      "outputs": []
    },
    {
      "cell_type": "code",
      "source": [
        "# Use a boxplot to show the distribution of the data\n",
        "\n",
        "for col in num_cols:\n",
        "    fig, ax = plt.subplots()\n",
        "    ax.boxplot(df[col])\n",
        "    ax.set_xlabel(col)"
      ],
      "metadata": {
        "id": "3ZZpJYKrb_yr"
      },
      "execution_count": null,
      "outputs": []
    },
    {
      "cell_type": "code",
      "source": [
        "# Describe the data\n",
        "\n",
        "df.describe()"
      ],
      "metadata": {
        "colab": {
          "base_uri": "https://localhost:8080/",
          "height": 300
        },
        "id": "rT8dJXU2oTpp",
        "outputId": "3209b747-a5f1-48bf-cee2-5b0429e5fc6d"
      },
      "execution_count": null,
      "outputs": [
        {
          "output_type": "execute_result",
          "data": {
            "text/plain": [
              "                ID  Customer_care_calls  Customer_rating  Cost_of_the_Product  \\\n",
              "count  10999.00000         10999.000000     10999.000000         10999.000000   \n",
              "mean    5500.00000             4.054459         2.990545           210.196836   \n",
              "std     3175.28214             1.141490         1.413603            48.063272   \n",
              "min        1.00000             2.000000         1.000000            96.000000   \n",
              "25%     2750.50000             3.000000         2.000000           169.000000   \n",
              "50%     5500.00000             4.000000         3.000000           214.000000   \n",
              "75%     8249.50000             5.000000         4.000000           251.000000   \n",
              "max    10999.00000             7.000000         5.000000           310.000000   \n",
              "\n",
              "       Prior_purchases  Discount_offered  Weight_in_gms         ROT_Y  \n",
              "count     10999.000000      10999.000000   10999.000000  10999.000000  \n",
              "mean          3.567597         13.373216    3634.016729      0.596691  \n",
              "std           1.522860         16.205527    1635.377251      0.490584  \n",
              "min           2.000000          1.000000    1001.000000      0.000000  \n",
              "25%           3.000000          4.000000    1839.500000      0.000000  \n",
              "50%           3.000000          7.000000    4149.000000      1.000000  \n",
              "75%           4.000000         10.000000    5050.000000      1.000000  \n",
              "max          10.000000         65.000000    7846.000000      1.000000  "
            ],
            "text/html": [
              "\n",
              "  <div id=\"df-4d9bdb75-4357-4248-81aa-2472e01ee7f3\">\n",
              "    <div class=\"colab-df-container\">\n",
              "      <div>\n",
              "<style scoped>\n",
              "    .dataframe tbody tr th:only-of-type {\n",
              "        vertical-align: middle;\n",
              "    }\n",
              "\n",
              "    .dataframe tbody tr th {\n",
              "        vertical-align: top;\n",
              "    }\n",
              "\n",
              "    .dataframe thead th {\n",
              "        text-align: right;\n",
              "    }\n",
              "</style>\n",
              "<table border=\"1\" class=\"dataframe\">\n",
              "  <thead>\n",
              "    <tr style=\"text-align: right;\">\n",
              "      <th></th>\n",
              "      <th>ID</th>\n",
              "      <th>Customer_care_calls</th>\n",
              "      <th>Customer_rating</th>\n",
              "      <th>Cost_of_the_Product</th>\n",
              "      <th>Prior_purchases</th>\n",
              "      <th>Discount_offered</th>\n",
              "      <th>Weight_in_gms</th>\n",
              "      <th>ROT_Y</th>\n",
              "    </tr>\n",
              "  </thead>\n",
              "  <tbody>\n",
              "    <tr>\n",
              "      <th>count</th>\n",
              "      <td>10999.00000</td>\n",
              "      <td>10999.000000</td>\n",
              "      <td>10999.000000</td>\n",
              "      <td>10999.000000</td>\n",
              "      <td>10999.000000</td>\n",
              "      <td>10999.000000</td>\n",
              "      <td>10999.000000</td>\n",
              "      <td>10999.000000</td>\n",
              "    </tr>\n",
              "    <tr>\n",
              "      <th>mean</th>\n",
              "      <td>5500.00000</td>\n",
              "      <td>4.054459</td>\n",
              "      <td>2.990545</td>\n",
              "      <td>210.196836</td>\n",
              "      <td>3.567597</td>\n",
              "      <td>13.373216</td>\n",
              "      <td>3634.016729</td>\n",
              "      <td>0.596691</td>\n",
              "    </tr>\n",
              "    <tr>\n",
              "      <th>std</th>\n",
              "      <td>3175.28214</td>\n",
              "      <td>1.141490</td>\n",
              "      <td>1.413603</td>\n",
              "      <td>48.063272</td>\n",
              "      <td>1.522860</td>\n",
              "      <td>16.205527</td>\n",
              "      <td>1635.377251</td>\n",
              "      <td>0.490584</td>\n",
              "    </tr>\n",
              "    <tr>\n",
              "      <th>min</th>\n",
              "      <td>1.00000</td>\n",
              "      <td>2.000000</td>\n",
              "      <td>1.000000</td>\n",
              "      <td>96.000000</td>\n",
              "      <td>2.000000</td>\n",
              "      <td>1.000000</td>\n",
              "      <td>1001.000000</td>\n",
              "      <td>0.000000</td>\n",
              "    </tr>\n",
              "    <tr>\n",
              "      <th>25%</th>\n",
              "      <td>2750.50000</td>\n",
              "      <td>3.000000</td>\n",
              "      <td>2.000000</td>\n",
              "      <td>169.000000</td>\n",
              "      <td>3.000000</td>\n",
              "      <td>4.000000</td>\n",
              "      <td>1839.500000</td>\n",
              "      <td>0.000000</td>\n",
              "    </tr>\n",
              "    <tr>\n",
              "      <th>50%</th>\n",
              "      <td>5500.00000</td>\n",
              "      <td>4.000000</td>\n",
              "      <td>3.000000</td>\n",
              "      <td>214.000000</td>\n",
              "      <td>3.000000</td>\n",
              "      <td>7.000000</td>\n",
              "      <td>4149.000000</td>\n",
              "      <td>1.000000</td>\n",
              "    </tr>\n",
              "    <tr>\n",
              "      <th>75%</th>\n",
              "      <td>8249.50000</td>\n",
              "      <td>5.000000</td>\n",
              "      <td>4.000000</td>\n",
              "      <td>251.000000</td>\n",
              "      <td>4.000000</td>\n",
              "      <td>10.000000</td>\n",
              "      <td>5050.000000</td>\n",
              "      <td>1.000000</td>\n",
              "    </tr>\n",
              "    <tr>\n",
              "      <th>max</th>\n",
              "      <td>10999.00000</td>\n",
              "      <td>7.000000</td>\n",
              "      <td>5.000000</td>\n",
              "      <td>310.000000</td>\n",
              "      <td>10.000000</td>\n",
              "      <td>65.000000</td>\n",
              "      <td>7846.000000</td>\n",
              "      <td>1.000000</td>\n",
              "    </tr>\n",
              "  </tbody>\n",
              "</table>\n",
              "</div>\n",
              "      <button class=\"colab-df-convert\" onclick=\"convertToInteractive('df-4d9bdb75-4357-4248-81aa-2472e01ee7f3')\"\n",
              "              title=\"Convert this dataframe to an interactive table.\"\n",
              "              style=\"display:none;\">\n",
              "        \n",
              "  <svg xmlns=\"http://www.w3.org/2000/svg\" height=\"24px\"viewBox=\"0 0 24 24\"\n",
              "       width=\"24px\">\n",
              "    <path d=\"M0 0h24v24H0V0z\" fill=\"none\"/>\n",
              "    <path d=\"M18.56 5.44l.94 2.06.94-2.06 2.06-.94-2.06-.94-.94-2.06-.94 2.06-2.06.94zm-11 1L8.5 8.5l.94-2.06 2.06-.94-2.06-.94L8.5 2.5l-.94 2.06-2.06.94zm10 10l.94 2.06.94-2.06 2.06-.94-2.06-.94-.94-2.06-.94 2.06-2.06.94z\"/><path d=\"M17.41 7.96l-1.37-1.37c-.4-.4-.92-.59-1.43-.59-.52 0-1.04.2-1.43.59L10.3 9.45l-7.72 7.72c-.78.78-.78 2.05 0 2.83L4 21.41c.39.39.9.59 1.41.59.51 0 1.02-.2 1.41-.59l7.78-7.78 2.81-2.81c.8-.78.8-2.07 0-2.86zM5.41 20L4 18.59l7.72-7.72 1.47 1.35L5.41 20z\"/>\n",
              "  </svg>\n",
              "      </button>\n",
              "      \n",
              "  <style>\n",
              "    .colab-df-container {\n",
              "      display:flex;\n",
              "      flex-wrap:wrap;\n",
              "      gap: 12px;\n",
              "    }\n",
              "\n",
              "    .colab-df-convert {\n",
              "      background-color: #E8F0FE;\n",
              "      border: none;\n",
              "      border-radius: 50%;\n",
              "      cursor: pointer;\n",
              "      display: none;\n",
              "      fill: #1967D2;\n",
              "      height: 32px;\n",
              "      padding: 0 0 0 0;\n",
              "      width: 32px;\n",
              "    }\n",
              "\n",
              "    .colab-df-convert:hover {\n",
              "      background-color: #E2EBFA;\n",
              "      box-shadow: 0px 1px 2px rgba(60, 64, 67, 0.3), 0px 1px 3px 1px rgba(60, 64, 67, 0.15);\n",
              "      fill: #174EA6;\n",
              "    }\n",
              "\n",
              "    [theme=dark] .colab-df-convert {\n",
              "      background-color: #3B4455;\n",
              "      fill: #D2E3FC;\n",
              "    }\n",
              "\n",
              "    [theme=dark] .colab-df-convert:hover {\n",
              "      background-color: #434B5C;\n",
              "      box-shadow: 0px 1px 3px 1px rgba(0, 0, 0, 0.15);\n",
              "      filter: drop-shadow(0px 1px 2px rgba(0, 0, 0, 0.3));\n",
              "      fill: #FFFFFF;\n",
              "    }\n",
              "  </style>\n",
              "\n",
              "      <script>\n",
              "        const buttonEl =\n",
              "          document.querySelector('#df-4d9bdb75-4357-4248-81aa-2472e01ee7f3 button.colab-df-convert');\n",
              "        buttonEl.style.display =\n",
              "          google.colab.kernel.accessAllowed ? 'block' : 'none';\n",
              "\n",
              "        async function convertToInteractive(key) {\n",
              "          const element = document.querySelector('#df-4d9bdb75-4357-4248-81aa-2472e01ee7f3');\n",
              "          const dataTable =\n",
              "            await google.colab.kernel.invokeFunction('convertToInteractive',\n",
              "                                                     [key], {});\n",
              "          if (!dataTable) return;\n",
              "\n",
              "          const docLinkHtml = 'Like what you see? Visit the ' +\n",
              "            '<a target=\"_blank\" href=https://colab.research.google.com/notebooks/data_table.ipynb>data table notebook</a>'\n",
              "            + ' to learn more about interactive tables.';\n",
              "          element.innerHTML = '';\n",
              "          dataTable['output_type'] = 'display_data';\n",
              "          await google.colab.output.renderOutput(dataTable, element);\n",
              "          const docLink = document.createElement('div');\n",
              "          docLink.innerHTML = docLinkHtml;\n",
              "          element.appendChild(docLink);\n",
              "        }\n",
              "      </script>\n",
              "    </div>\n",
              "  </div>\n",
              "  "
            ]
          },
          "metadata": {},
          "execution_count": 15
        }
      ]
    },
    {
      "cell_type": "markdown",
      "source": [
        "**CLASS DISTRIBUTION**"
      ],
      "metadata": {
        "id": "0YF9OT1pajNU"
      }
    },
    {
      "cell_type": "code",
      "source": [
        "# Compute class distribution for Customer_care_calls\n",
        "\n",
        "class_distribution = df['Customer_care_calls'].value_counts(normalize=True)\n",
        "print(class_distribution)\n"
      ],
      "metadata": {
        "colab": {
          "base_uri": "https://localhost:8080/"
        },
        "id": "JHXJ4gFgponb",
        "outputId": "e3deddb5-74bf-4fbc-d189-71f21700acbb"
      },
      "execution_count": null,
      "outputs": [
        {
          "output_type": "stream",
          "name": "stdout",
          "text": [
            "4    0.323393\n",
            "3    0.292481\n",
            "5    0.211656\n",
            "6    0.092099\n",
            "2    0.058005\n",
            "7    0.022366\n",
            "Name: Customer_care_calls, dtype: float64\n"
          ]
        }
      ]
    },
    {
      "cell_type": "code",
      "source": [
        "# Compute class distribution for Customer_rating\n",
        "\n",
        "class_distribution = df['Customer_rating'].value_counts(normalize=True)\n",
        "print(class_distribution)\n"
      ],
      "metadata": {
        "colab": {
          "base_uri": "https://localhost:8080/"
        },
        "id": "lNEd0_r9qL8_",
        "outputId": "1613e08f-2140-49e7-d82b-2c066df61c0a"
      },
      "execution_count": null,
      "outputs": [
        {
          "output_type": "stream",
          "name": "stdout",
          "text": [
            "3    0.203564\n",
            "1    0.203200\n",
            "4    0.199018\n",
            "5    0.197382\n",
            "2    0.196836\n",
            "Name: Customer_rating, dtype: float64\n"
          ]
        }
      ]
    },
    {
      "cell_type": "code",
      "source": [
        "# Compute class distribution for Cost_of_the_Product\n",
        "\n",
        "class_distribution = df['Cost_of_the_Product'].value_counts(normalize=True)\n",
        "print(class_distribution)"
      ],
      "metadata": {
        "colab": {
          "base_uri": "https://localhost:8080/"
        },
        "id": "qEDTVsVvqXvs",
        "outputId": "7d791403-8426-4484-93f1-c478b7045baa"
      },
      "execution_count": null,
      "outputs": [
        {
          "output_type": "stream",
          "name": "stdout",
          "text": [
            "245    0.010001\n",
            "257    0.009910\n",
            "260    0.009637\n",
            "254    0.009183\n",
            "264    0.009092\n",
            "         ...   \n",
            "107    0.000455\n",
            "99     0.000455\n",
            "120    0.000455\n",
            "96     0.000455\n",
            "122    0.000364\n",
            "Name: Cost_of_the_Product, Length: 215, dtype: float64\n"
          ]
        }
      ]
    },
    {
      "cell_type": "code",
      "source": [
        "# Compute class distribution for Prior_purchases\n",
        "\n",
        "class_distribution = df['Prior_purchases'].value_counts(normalize=True)\n",
        "print(class_distribution)"
      ],
      "metadata": {
        "colab": {
          "base_uri": "https://localhost:8080/"
        },
        "id": "9G7HP2sMqqLa",
        "outputId": "4898cdf2-02d3-4931-ce17-83e6beee2cdc"
      },
      "execution_count": null,
      "outputs": [
        {
          "output_type": "stream",
          "name": "stdout",
          "text": [
            "3     0.359578\n",
            "2     0.236294\n",
            "4     0.195927\n",
            "5     0.117011\n",
            "6     0.051005\n",
            "10    0.016183\n",
            "7     0.012365\n",
            "8     0.011637\n",
            "Name: Prior_purchases, dtype: float64\n"
          ]
        }
      ]
    },
    {
      "cell_type": "code",
      "source": [
        "# Compute class distribution for Discount_offered\n",
        "\n",
        "class_distribution = df['Discount_offered'].value_counts(normalize=True)\n",
        "print(class_distribution)"
      ],
      "metadata": {
        "colab": {
          "base_uri": "https://localhost:8080/"
        },
        "id": "t-ih6ZZUqwSm",
        "outputId": "3f43a72b-ce07-4c5b-9fc9-982b43ef6c4b"
      },
      "execution_count": null,
      "outputs": [
        {
          "output_type": "stream",
          "name": "stdout",
          "text": [
            "10    0.078189\n",
            "2     0.078007\n",
            "6     0.077189\n",
            "9     0.076825\n",
            "3     0.076371\n",
            "        ...   \n",
            "65    0.003273\n",
            "26    0.003273\n",
            "42    0.003182\n",
            "25    0.003091\n",
            "30    0.003091\n",
            "Name: Discount_offered, Length: 65, dtype: float64\n"
          ]
        }
      ]
    },
    {
      "cell_type": "code",
      "source": [
        "# Compute class distribution for Weight_in_gms\n",
        "\n",
        "class_distribution = df['Weight_in_gms'].value_counts(normalize=True)\n",
        "print(class_distribution)"
      ],
      "metadata": {
        "colab": {
          "base_uri": "https://localhost:8080/"
        },
        "id": "-z2xCt8xqw_r",
        "outputId": "e84b342d-1309-4cc2-ceaf-8173ddb677dc"
      },
      "execution_count": null,
      "outputs": [
        {
          "output_type": "stream",
          "name": "stdout",
          "text": [
            "4883    0.001091\n",
            "1145    0.000909\n",
            "5783    0.000909\n",
            "4741    0.000909\n",
            "5672    0.000909\n",
            "          ...   \n",
            "1425    0.000091\n",
            "3811    0.000091\n",
            "1609    0.000091\n",
            "2178    0.000091\n",
            "1098    0.000091\n",
            "Name: Weight_in_gms, Length: 4034, dtype: float64\n"
          ]
        }
      ]
    },
    {
      "cell_type": "markdown",
      "source": [
        "**SCATTER PLOTS**"
      ],
      "metadata": {
        "id": "cY9Jz4wrapEO"
      }
    },
    {
      "cell_type": "code",
      "source": [
        "# Scatter plot of Customer_care_calls and ROT_Y\n",
        "\n",
        "plt.scatter(df['Customer_care_calls'], df['ROT_Y'])\n",
        "plt.xlabel('Customer_care_calls')\n",
        "plt.ylabel('ROT_Y')\n",
        "plt.title('Scatter plot of Customer_care_calls vs. ROT_Y')\n",
        "plt.show()\n"
      ],
      "metadata": {
        "colab": {
          "base_uri": "https://localhost:8080/",
          "height": 472
        },
        "id": "tk-FMzxjtFXw",
        "outputId": "ba28736e-ddcc-4ad9-9a8c-f4dbc0d15332"
      },
      "execution_count": null,
      "outputs": [
        {
          "output_type": "display_data",
          "data": {
            "text/plain": [
              "<Figure size 640x480 with 1 Axes>"
            ],
            "image/png": "[encoded data removed]"
          },
          "metadata": {}
        }
      ]
    },
    {
      "cell_type": "code",
      "source": [
        "# Scatter plot of Customer_rating and ROT_Y\n",
        "\n",
        "plt.scatter(df['Customer_rating'], df['ROT_Y'])\n",
        "plt.xlabel('Customer_rating')\n",
        "plt.ylabel('ROT_Y')\n",
        "plt.title('Scatter plot of Customer_rating vs. ROT_Y')\n",
        "plt.show()"
      ],
      "metadata": {
        "colab": {
          "base_uri": "https://localhost:8080/",
          "height": 472
        },
        "id": "ubDPg-XNa92P",
        "outputId": "cd9709b3-3f56-4903-b1e2-a6a487cedd35"
      },
      "execution_count": null,
      "outputs": [
        {
          "output_type": "display_data",
          "data": {
            "text/plain": [
              "<Figure size 640x480 with 1 Axes>"
            ],
            "image/png": "[encoded data removed]"
          },
          "metadata": {}
        }
      ]
    },
    {
      "cell_type": "code",
      "source": [
        "# Scatter plot of Cost_of_the_Product and ROT_Y\n",
        "\n",
        "plt.scatter(df['Cost_of_the_Product'], df['ROT_Y'])\n",
        "plt.xlabel('Cost_of_the_Product')\n",
        "plt.ylabel('ROT_Y')\n",
        "plt.title('Scatter plot of Cost_of_the_Product vs. ROT_Y')\n",
        "plt.show()"
      ],
      "metadata": {
        "colab": {
          "base_uri": "https://localhost:8080/",
          "height": 236
        },
        "id": "P2DU6rGsf_BD",
        "outputId": "765bbc57-aa3c-48f6-d2e3-0ccaa5b85d61"
      },
      "execution_count": null,
      "outputs": [
        {
          "output_type": "error",
          "ename": "NameError",
          "evalue": "ignored",
          "traceback": [
            "\u001b[0;31m---------------------------------------------------------------------------\u001b[0m",
            "\u001b[0;31mNameError\u001b[0m                                 Traceback (most recent call last)",
            "\u001b[0;32m<ipython-input-1-67d8bbab70ff>\u001b[0m in \u001b[0;36m<cell line: 3>\u001b[0;34m()\u001b[0m\n\u001b[1;32m      1\u001b[0m \u001b[0;31m# Scatter plot of Discount_offered and ROT_Y\u001b[0m\u001b[0;34m\u001b[0m\u001b[0;34m\u001b[0m\u001b[0m\n\u001b[1;32m      2\u001b[0m \u001b[0;34m\u001b[0m\u001b[0m\n\u001b[0;32m----> 3\u001b[0;31m \u001b[0mplt\u001b[0m\u001b[0;34m.\u001b[0m\u001b[0mscatter\u001b[0m\u001b[0;34m(\u001b[0m\u001b[0mdf\u001b[0m\u001b[0;34m[\u001b[0m\u001b[0;34m'Cost_of_the_Product'\u001b[0m\u001b[0;34m]\u001b[0m\u001b[0;34m,\u001b[0m \u001b[0mdf\u001b[0m\u001b[0;34m[\u001b[0m\u001b[0;34m'ROT_Y'\u001b[0m\u001b[0;34m]\u001b[0m\u001b[0;34m)\u001b[0m\u001b[0;34m\u001b[0m\u001b[0;34m\u001b[0m\u001b[0m\n\u001b[0m\u001b[1;32m      4\u001b[0m \u001b[0mplt\u001b[0m\u001b[0;34m.\u001b[0m\u001b[0mxlabel\u001b[0m\u001b[0;34m(\u001b[0m\u001b[0;34m'Cost_of_the_Product'\u001b[0m\u001b[0;34m)\u001b[0m\u001b[0;34m\u001b[0m\u001b[0;34m\u001b[0m\u001b[0m\n\u001b[1;32m      5\u001b[0m \u001b[0mplt\u001b[0m\u001b[0;34m.\u001b[0m\u001b[0mylabel\u001b[0m\u001b[0;34m(\u001b[0m\u001b[0;34m'ROT_Y'\u001b[0m\u001b[0;34m)\u001b[0m\u001b[0;34m\u001b[0m\u001b[0;34m\u001b[0m\u001b[0m\n",
            "\u001b[0;31mNameError\u001b[0m: name 'plt' is not defined"
          ]
        }
      ]
    },
    {
      "cell_type": "code",
      "source": [
        "# Scatter plot of Discount_offered and ROT_Y\n",
        "\n",
        "plt.scatter(df['Discount_offered'], df['ROT_Y'])\n",
        "plt.xlabel('Discount_offered')\n",
        "plt.ylabel('ROT_Y')\n",
        "plt.title('Scatter plot of Discount_offered vs. ROT_Y')\n",
        "plt.show()"
      ],
      "metadata": {
        "colab": {
          "base_uri": "https://localhost:8080/",
          "height": 472
        },
        "id": "4_HLNMUBb-u9",
        "outputId": "16cceecc-ad1e-4b44-9693-eac3b38a1c2f"
      },
      "execution_count": null,
      "outputs": [
        {
          "output_type": "display_data",
          "data": {
            "text/plain": [
              "<Figure size 640x480 with 1 Axes>"
            ],
            "image/png": "[encoded data removed]"
          },
          "metadata": {}
        }
      ]
    },
    {
      "cell_type": "code",
      "source": [
        "# Scatter plot of Prior_purchases and ROT_Y\n",
        "\n",
        "plt.scatter(df['Prior_purchases'], df['ROT_Y'])\n",
        "plt.xlabel('Prior_purchases')\n",
        "plt.ylabel('ROT_Y')\n",
        "plt.title('Scatter plot of Prior_purchases vs. ROT_Y')\n",
        "plt.show()"
      ],
      "metadata": {
        "colab": {
          "base_uri": "https://localhost:8080/",
          "height": 472
        },
        "id": "dg8HhHRVuwXL",
        "outputId": "8a10a823-5902-4973-a22c-09cc12ca825b"
      },
      "execution_count": null,
      "outputs": [
        {
          "output_type": "display_data",
          "data": {
            "text/plain": [
              "<Figure size 640x480 with 1 Axes>"
            ],
            "image/png": "[encoded data removed]"
          },
          "metadata": {}
        }
      ]
    },
    {
      "cell_type": "code",
      "source": [
        "# Scatter plot of Weight_in_gms and ROT_Y\n",
        "\n",
        "plt.scatter(df['Weight_in_gms'], df['ROT_Y'])\n",
        "plt.xlabel('Weight_in_gms')\n",
        "plt.ylabel('ROT_Y')\n",
        "plt.title('Scatter plot of Weight_in_gms vs. ROT_Y')\n",
        "plt.show()"
      ],
      "metadata": {
        "id": "Cd_01YeobxYy"
      },
      "execution_count": null,
      "outputs": []
    },
    {
      "cell_type": "markdown",
      "source": [
        "**BOX PLOT**"
      ],
      "metadata": {
        "id": "OE992Lb2hDgK"
      }
    },
    {
      "cell_type": "code",
      "source": [
        "# Bar plot of Mode_of_Shipment\n",
        "df['Mode_of_Shipment'].value_counts().plot(kind='bar')\n",
        "plt.xlabel('Categories')\n",
        "plt.ylabel('Count')\n",
        "plt.title('Bar plot of Mode_of_Shipment')\n",
        "plt.show()"
      ],
      "metadata": {
        "colab": {
          "base_uri": "https://localhost:8080/",
          "height": 497
        },
        "id": "Qfe3PIfHt4n7",
        "outputId": "df19075d-aefb-4789-befa-d85ca26647c8"
      },
      "execution_count": null,
      "outputs": [
        {
          "output_type": "display_data",
          "data": {
            "text/plain": [
              "<Figure size 640x480 with 1 Axes>"
            ],
            "image/png": "[encoded data removed]"
          },
          "metadata": {}
        }
      ]
    },
    {
      "cell_type": "code",
      "source": [
        "# Bar plot of Product_importance\n",
        "df['Product_importance'].value_counts().plot(kind='bar')\n",
        "plt.xlabel('Categories')\n",
        "plt.ylabel('Count')\n",
        "plt.title('Bar plot of Product_importance')\n",
        "plt.show()"
      ],
      "metadata": {
        "colab": {
          "base_uri": "https://localhost:8080/",
          "height": 514
        },
        "id": "kums7tX7vVMv",
        "outputId": "c150e847-6a2e-448d-ac16-a97c6316b0cf"
      },
      "execution_count": null,
      "outputs": [
        {
          "output_type": "display_data",
          "data": {
            "text/plain": [
              "<Figure size 640x480 with 1 Axes>"
            ],
            "image/png": "[encoded data removed]"
          },
          "metadata": {}
        }
      ]
    },
    {
      "cell_type": "markdown",
      "source": [
        "**ENCODING**"
      ],
      "metadata": {
        "id": "SACxql_lhJAT"
      }
    },
    {
      "cell_type": "code",
      "source": [
        "# Identify the categorical columns to encode\n",
        "cat_cols = ['Warehouse_block', 'Mode_of_Shipment', 'Product_importance', 'Weight_in_gms']\n",
        "\n",
        "# Create an instance of the ordinal encoder\n",
        "oe = OrdinalEncoder()\n",
        "\n",
        "# Fit the encoder on the categorical columns\n",
        "oe.fit(df[cat_cols])\n",
        "\n",
        "# Transform the categorical columns to ordinal encoding\n",
        "df[cat_cols] = oe.transform(df[cat_cols])\n",
        "\n",
        "# Print the encoded DataFrame\n",
        "print(df.head(20))"
      ],
      "metadata": {
        "id": "ncx72yyicvvJ"
      },
      "execution_count": null,
      "outputs": []
    },
    {
      "cell_type": "markdown",
      "source": [
        "**SPLIT DATA**"
      ],
      "metadata": {
        "id": "1R0s7m6NPRO3"
      }
    },
    {
      "cell_type": "code",
      "source": [
        "X = df.drop('ROT_Y', axis=1)\n",
        "y = df['ROT_Y']\n",
        "\n",
        "X_train, X_test, y_train, y_test = train_test_split(X, y, test_size=0.2, random_state=42)"
      ],
      "metadata": {
        "id": "boZu9HvIJQit"
      },
      "execution_count": null,
      "outputs": []
    },
    {
      "cell_type": "code",
      "source": [
        "# Print the shapes of the train and test sets\n",
        "print(\"Shape of X_train:\", X_train.shape)\n",
        "print(\"Shape of y_train:\", y_train.shape)\n",
        "print(\"Shape of X_test:\", X_test.shape)\n",
        "print(\"Shape of y_test:\", y_test.shape)"
      ],
      "metadata": {
        "colab": {
          "base_uri": "https://localhost:8080/"
        },
        "id": "rO98WRGFGzgO",
        "outputId": "92a6e8dc-62a8-4a9c-b512-57aa93c05dea"
      },
      "execution_count": null,
      "outputs": [
        {
          "output_type": "stream",
          "name": "stdout",
          "text": [
            "Shape of X_train: (8799, 10)\n",
            "Shape of y_train: (8799,)\n",
            "Shape of X_test: (2200, 10)\n",
            "Shape of y_test: (2200,)\n"
          ]
        }
      ]
    },
    {
      "cell_type": "markdown",
      "source": [
        "**DECISION TREE MODEL**"
      ],
      "metadata": {
        "id": "ca7lQd96fzHA"
      }
    },
    {
      "cell_type": "code",
      "source": [
        "# Create a decision tree classifier with max_depth=6\n",
        "dt_classifier = DecisionTreeClassifier(max_depth=6)\n",
        "\n",
        "# Train the model on the training set\n",
        "dt_classifier.fit(X_train, y_train)\n",
        "\n",
        "# Make predictions on the test set\n",
        "y_pred = dt_classifier.predict(X_test)\n",
        "\n",
        "# Evaluate the performance of the model\n",
        "from sklearn.metrics import accuracy_score, precision_score, recall_score, f1_score\n",
        "\n",
        "accuracy = accuracy_score(y_test, y_pred)\n",
        "precision = precision_score(y_test, y_pred)\n",
        "recall = recall_score(y_test, y_pred)\n",
        "f1 = f1_score(y_test, y_pred)\n",
        "\n",
        "print('Accuracy:', accuracy)\n",
        "print('Precision:', precision)\n",
        "print('Recall:', recall)\n",
        "print('F1 score:', f1)"
      ],
      "metadata": {
        "colab": {
          "base_uri": "https://localhost:8080/"
        },
        "id": "MduiwftzWdPf",
        "outputId": "aa144ad2-250e-4f5e-9699-2ff3725130b3"
      },
      "execution_count": null,
      "outputs": [
        {
          "output_type": "stream",
          "name": "stdout",
          "text": [
            "Accuracy: 0.68\n",
            "Precision: 0.8418657565415245\n",
            "Recall: 0.5670498084291188\n",
            "F1 score: 0.6776556776556777\n"
          ]
        }
      ]
    },
    {
      "cell_type": "code",
      "source": [
        "# Instantiate the logistic regression model\n",
        "model = LogisticRegression(C=0.1)\n",
        "\n",
        "# Train the model on the training data\n",
        "model.fit(X_train, y_train)\n",
        "\n",
        "# Make predictions on the test data\n",
        "y_pred = model.predict(X_test)\n",
        "\n",
        "# Evaluate the model's accuracy on the test data\n",
        "accuracy = accuracy_score(y_test, y_pred)\n",
        "precision = precision_score(y_test, y_pred)\n",
        "recall = recall_score(y_test, y_pred)\n",
        "f1 = f1_score(y_test, y_pred)\n",
        "\n",
        "print('Accuracy:', accuracy)\n",
        "print('Precision:', precision)\n",
        "print('Recall:', recall)\n",
        "print('F1 score:', f1)"
      ],
      "metadata": {
        "colab": {
          "base_uri": "https://localhost:8080/"
        },
        "id": "c1_hHuFKgadV",
        "outputId": "1d87344a-5bf3-48e8-da00-196c5c672902"
      },
      "execution_count": null,
      "outputs": [
        {
          "output_type": "stream",
          "name": "stdout",
          "text": [
            "Accuracy: 0.6595454545454545\n",
            "Precision: 0.7249190938511327\n",
            "Recall: 0.6865900383141762\n",
            "F1 score: 0.7052341597796142\n"
          ]
        }
      ]
    },
    {
      "cell_type": "code",
      "source": [
        "# Instantiate the Gaussian Naive Bayes model\n",
        "model = GaussianNB()\n",
        "\n",
        "# Train the model on the training data\n",
        "model.fit(X_train, y_train)\n",
        "\n",
        "# Make predictions on the test data\n",
        "y_pred = model.predict(X_test)\n",
        "\n",
        "accuracy = accuracy_score(y_test, y_pred)\n",
        "precision = precision_score(y_test, y_pred)\n",
        "recall = recall_score(y_test, y_pred)\n",
        "f1 = f1_score(y_test, y_pred)\n",
        "\n",
        "print('Accuracy:', accuracy)\n",
        "print('Precision:', precision)\n",
        "print('Recall:', recall)\n",
        "print('F1 score:', f1)"
      ],
      "metadata": {
        "colab": {
          "base_uri": "https://localhost:8080/"
        },
        "id": "Zd9TPwFLhADT",
        "outputId": "fc002683-18b7-494f-d442-10eb6d9e7146"
      },
      "execution_count": null,
      "outputs": [
        {
          "output_type": "stream",
          "name": "stdout",
          "text": [
            "Accuracy: 0.6895454545454546\n",
            "Precision: 0.9755351681957186\n",
            "Recall: 0.4888888888888889\n",
            "F1 score: 0.6513527309851965\n"
          ]
        }
      ]
    },
    {
      "cell_type": "code",
      "source": [
        "# Instantiate the KNN model\n",
        "model = KNeighborsClassifier(n_neighbors=5)\n",
        "\n",
        "# Train the model on the training data\n",
        "model.fit(X_train, y_train)\n",
        "\n",
        "# Make predictions on the test data\n",
        "y_pred = model.predict(X_test)\n",
        "\n",
        "accuracy = accuracy_score(y_test, y_pred)\n",
        "precision = precision_score(y_test, y_pred)\n",
        "recall = recall_score(y_test, y_pred)\n",
        "f1 = f1_score(y_test, y_pred)\n",
        "\n",
        "print('Accuracy:', accuracy)\n",
        "print('Precision:', precision)\n",
        "print('Recall:', recall)\n",
        "print('F1 score:', f1)"
      ],
      "metadata": {
        "colab": {
          "base_uri": "https://localhost:8080/"
        },
        "id": "AoFMiUi7hMXy",
        "outputId": "cf7ab92d-1276-4fe3-c7a3-a94b90c79fc6"
      },
      "execution_count": null,
      "outputs": [
        {
          "output_type": "stream",
          "name": "stdout",
          "text": [
            "Accuracy: 0.6554545454545454\n",
            "Precision: 0.7221770917952883\n",
            "Recall: 0.6812260536398468\n",
            "F1 score: 0.7011041009463723\n"
          ]
        }
      ]
    },
    {
      "cell_type": "code",
      "source": [
        "# Create an instance of SVC\n",
        "svc = SVC()\n",
        "\n",
        "# Fit the model to the training data\n",
        "svc.fit(X_train, y_train)\n",
        "\n",
        "# Make predictions on the test set\n",
        "y_pred = svc.predict(X_test)\n",
        "\n",
        "accuracy = accuracy_score(y_test, y_pred)\n",
        "precision = precision_score(y_test, y_pred)\n",
        "recall = recall_score(y_test, y_pred)\n",
        "f1 = f1_score(y_test, y_pred)\n",
        "\n",
        "print('Accuracy:', accuracy)\n",
        "print('Precision:', precision)\n",
        "print('Recall:', recall)\n",
        "print('F1 score:', f1)"
      ],
      "metadata": {
        "colab": {
          "base_uri": "https://localhost:8080/"
        },
        "id": "EHm7kxyKhn4L",
        "outputId": "bafc8e90-ee70-4942-b85a-6f49559d7312"
      },
      "execution_count": null,
      "outputs": [
        {
          "output_type": "stream",
          "name": "stdout",
          "text": [
            "Accuracy: 0.6904545454545454\n",
            "Precision: 0.9727272727272728\n",
            "Recall: 0.49195402298850577\n",
            "F1 score: 0.6534351145038167\n"
          ]
        }
      ]
    },
    {
      "cell_type": "code",
      "source": [],
      "metadata": {
        "id": "CDlAI8BPjn-v"
      },
      "execution_count": null,
      "outputs": []
    },
    {
      "cell_type": "code",
      "source": [],
      "metadata": {
        "id": "P9m321CIjntm"
      },
      "execution_count": null,
      "outputs": []
    }
  ]
}